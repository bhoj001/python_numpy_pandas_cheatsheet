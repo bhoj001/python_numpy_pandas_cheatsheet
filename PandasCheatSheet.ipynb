{
 "cells": [
  {
   "cell_type": "markdown",
   "id": "d3909c92",
   "metadata": {},
   "source": [
    "### Creating a data frame\n",
    "\n",
    "creating dataframe from \n",
    "1. dictionary of lists\n",
    "2. matrix (list of list)\n",
    "3. tuples"
   ]
  },
  {
   "cell_type": "code",
   "execution_count": 15,
   "id": "b7a36329",
   "metadata": {},
   "outputs": [
    {
     "name": "stdout",
     "output_type": "stream",
     "text": [
      "df(dict):    a  b   c\n",
      "1  4  7  10\n",
      "2  5  8  11\n",
      "3  6  9  12\n",
      "df2:     a  b   c\n",
      "1  4  7  10\n",
      "2  5  8  11\n",
      "3  6  9  12\n",
      "\n",
      "df3:\n",
      "      a  b   c\n",
      "n v          \n",
      "d 1  4  7  10\n",
      "  2  5  8  11\n",
      "e 2  6  9  12\n",
      "df_tp=>    a  b   c\n",
      "0  4  7  10\n",
      "1  5  8  11\n",
      "2  6  9  12\n"
     ]
    }
   ],
   "source": [
    "import pandas as pd\n",
    "\n",
    "#1 create df from dictionary of lists\n",
    "d = {\n",
    "    'a': [4, 5, 6],\n",
    "    'b': [7, 8, 9],\n",
    "    'c': [10, 11, 12]\n",
    "}\n",
    "df = pd.DataFrame(d, index=[1,2,3]) # no need to give columns; if we don't give index, index starts at 0\n",
    "# df = pd.DataFrame(d) # this is fine with index starting at 0\n",
    "print(\"df(dict):\",df)\n",
    "\n",
    "#2 Creating dictionary from matrix (list of list)\n",
    "matrix = [\n",
    "    [4,7,10],\n",
    "    [5,8,11],\n",
    "    [6,9,12]\n",
    "]\n",
    "df2 = pd.DataFrame(matrix, index=[1,2,3], columns=['a', 'b', 'c']) # if we don't give column;columnName starts at 0\n",
    "print(\"df2: \", df2)\n",
    "\n",
    "\n",
    "# 3. Creating dataframe from tuple with multiIndex\n",
    "# tp = \n",
    "df3 = pd.DataFrame(d, index = pd.MultiIndex.from_tuples([('d', 1), ('d', 2), ('e', 2)], names=['n', 'v']))\n",
    "# print(\"index = \", index)\n",
    "print(\"\\ndf3:\\n\", df3)\n",
    "\n",
    "\n",
    "# From dictionary of tuples.\n",
    "d = {\n",
    "    'a': (4, 5, 6),\n",
    "    'b': (7, 8, 9),\n",
    "    'c': (10, 11, 12)\n",
    "}\n",
    "df_tp = pd.DataFrame(d)\n",
    "print(\"df_tp=>\", df_tp)\n"
   ]
  },
  {
   "cell_type": "markdown",
   "id": "871d6831",
   "metadata": {},
   "source": [
    "### Reshaping Data\n",
    "\n",
    "Changing \n",
    "1. Layout (rows into columns(pivot) or columns into rows(melt))\n",
    "2. Concatination\n",
    "3. sorting\n",
    "4. reindexing\n",
    "5. renaming \n",
    "6. dropping columns"
   ]
  },
  {
   "cell_type": "code",
   "execution_count": 56,
   "id": "421f9112",
   "metadata": {
    "scrolled": false
   },
   "outputs": [
    {
     "name": "stdout",
     "output_type": "stream",
     "text": [
      "pd.melt(df)=>\n",
      "   variable  value\n",
      "0        a      4\n",
      "1        a      5\n",
      "2        a      6\n",
      "3        b      7\n",
      "4        b      8\n",
      "5        b      9\n",
      "6        c     10\n",
      "7        c     11\n",
      "8        c     12\n",
      "   a  b   c\n",
      "1  4  7  10\n",
      "2  5  8  11\n",
      "3  6  9  12\n",
      "df.pivot(columns='var', values='val')=>\n",
      " a     4     5     6\n",
      "1  10.0   NaN   NaN\n",
      "2   NaN  11.0   NaN\n",
      "3   NaN   NaN  12.0\n",
      "df4=>\n",
      "    foo bar  baz zoo\n",
      "0  one   A    1   x\n",
      "1  one   B    2   y\n",
      "2  one   C    3   z\n",
      "3  two   A    4   q\n",
      "4  two   B    5   w\n",
      "5  two   C    6   t\n",
      "\n",
      "\n",
      "df4.pivot(index='foo', columns='bar', values='baz')=>\n",
      " bar  A  B  C\n",
      "foo         \n",
      "one  1  2  3\n",
      "two  4  5  6\n",
      "\n",
      "\n",
      "df4.pivot(index='foo', columns='bar', values=['baz', 'zoo'])=>\n",
      "     baz       zoo      \n",
      "bar   A  B  C   A  B  C\n",
      "foo                    \n",
      "one   1  2  3   x  y  z\n",
      "two   4  5  6   q  w  t\n",
      "pd.concat([df1, df2])=>\n",
      "    a  b   c\n",
      "1  4  7  10\n",
      "2  5  8  11\n",
      "3  6  9  12\n",
      "1  4  7  10\n",
      "2  5  8  11\n",
      "3  6  9  12\n",
      "pd.concat([df1, df2], axis=1)=>\n",
      "    a  b   c  a  b   c\n",
      "1  4  7  10  4  7  10\n",
      "2  5  8  11  5  8  11\n",
      "3  6  9  12  6  9  12\n",
      "df.sort_values(\"a\")=>\n",
      "    a  b   c\n",
      "1  4  7  10\n",
      "2  5  8  11\n",
      "3  6  9  12\n",
      "df.sort_values(\"a\", ascending=False)=>\n",
      "    a  b   c\n",
      "3  6  9  12\n",
      "2  5  8  11\n",
      "1  4  7  10\n",
      "df.rename(columns={'a': 'apple'})=>\n",
      "    apple  b   c\n",
      "1      4  7  10\n",
      "2      5  8  11\n",
      "3      6  9  12\n",
      "   a  b   c\n",
      "1  4  7  10\n",
      "2  5  8  11\n",
      "3  6  9  12\n",
      "df.sort_index()=>\n",
      "    a  b   c\n",
      "1  4  7  10\n",
      "2  5  8  11\n",
      "3  6  9  12\n",
      "df.reset_index()=>\n",
      "    index  a  b   c\n",
      "0      1  4  7  10\n",
      "1      2  5  8  11\n",
      "2      3  6  9  12\n",
      "    c\n",
      "1  10\n",
      "2  11\n",
      "3  12\n",
      "   a  b   c\n",
      "1  4  7  10\n",
      "2  5  8  11\n",
      "3  6  9  12\n"
     ]
    }
   ],
   "source": [
    "# Changing columns into rows(melt)\n",
    "print(\"pd.melt(df)=>\\n\",pd.melt(df))\n",
    "print(df)\n",
    "\n",
    "# Spreading rows into columns ; note here we use df not pd\n",
    "print(\"df.pivot(columns='var', values='val')=>\\n\", df.pivot(columns='a', values='c'))\n",
    "\n",
    "df4 = pd.DataFrame({'foo': ['one', 'one', 'one', 'two', 'two',\n",
    "                           'two'],\n",
    "                   'bar': ['A', 'B', 'C', 'A', 'B', 'C'],\n",
    "                   'baz': [1, 2, 3, 4, 5, 6],\n",
    "                   'zoo': ['x', 'y', 'z', 'q', 'w', 't']})\n",
    "\n",
    "print(\"df4=>\\n\",df4)\n",
    "print(\"\\n\\ndf4.pivot(index='foo', columns='bar', values='baz')=>\\n\",df4.pivot(index='foo', columns='bar', values='baz'))\n",
    "# for selecting multiple values\n",
    "print(\"\\n\\ndf4.pivot(index='foo', columns='bar', values=['baz', 'zoo'])=>\\n\",df4.pivot(index='foo', columns='bar', values=['baz', 'zoo']))\n",
    "\n",
    "\n",
    "# Concatinate\n",
    "df1 = df2 = df # both have same df for now\n",
    "print(\"pd.concat([df1, df2])=>\\n\",pd.concat([df1, df2])) # by default is append row-wise\n",
    "print(\"pd.concat([df1, df2], axis=1)=>\\n\",pd.concat([df1, df2], axis=1)) # append column-wise\n",
    "\n",
    "# sorting \n",
    "print(\"df.sort_values(\\\"a\\\")=>\\n\", df.sort_values(\"a\")) # sort values in ascending based on column a\n",
    "print(\"df.sort_values(\\\"a\\\", ascending=False)=>\\n\", df.sort_values(\"a\", ascending=False)) # sort values in descending based on column a\n",
    "\n",
    "\n",
    "# Renaming column ; change column name to another name\n",
    "print(\"df.rename(columns={\\'a\\': \\'apple\\'})=>\\n\", df.rename(columns={'a': 'apple'})) # change column a to apple\n",
    "print(df) # this does not change the original df \n",
    "\n",
    "\n",
    "# sorting index and resetting index\n",
    "print(\"df.sort_index()=>\\n\", df.sort_index()) # sorts the index of a dataframe\n",
    "print(\"df.reset_index()=>\\n\",df.reset_index()) # reset the index of df to row numbers, moving index to columns\n",
    "# above df.reset_index() starts the index from 0\n",
    "\n",
    "\n",
    "# Droping a cloumn\n",
    "print(df.drop(columns=['a','b'])) # drops column a and column b; this operation does not change df \n",
    "print(df) # df is same as original.\n",
    "\n"
   ]
  },
  {
   "cell_type": "markdown",
   "id": "2516ca44",
   "metadata": {},
   "source": [
    "### Subset Observations\n",
    "\n",
    "1. Subset observation in rows\n",
    "2. subset observation in columns\n",
    "4. subset observation both: rows and colums"
   ]
  },
  {
   "cell_type": "code",
   "execution_count": 84,
   "id": "ba6c8c56",
   "metadata": {},
   "outputs": [
    {
     "name": "stdout",
     "output_type": "stream",
     "text": [
      "df[df.a>5]=>\n",
      "    a  b   c\n",
      "2  5  8  11\n",
      "3  6  9  12\n",
      "df.drop_duplicates()=>\n",
      "    a  b   c\n",
      "1  4  7  10\n",
      "2  5  8  11\n",
      "3  6  9  12\n",
      "df.sample(frac=0.5)=>\n",
      "    a  b   c\n",
      "3  6  9  12\n",
      "2  5  8  11\n",
      "df.sample(n=10)=>\n",
      "    a  b   c\n",
      "2  5  8  11\n",
      "3  6  9  12\n",
      "df.nlargest(2, 'a')=>\n",
      "    a  b   c\n",
      "3  6  9  12\n",
      "2  5  8  11\n",
      "df.nsmallest(2, 'a')=>\n",
      "    a  b   c\n",
      "1  4  7  10\n",
      "2  5  8  11\n",
      "df.head(5)=>\n",
      "    a  b   c\n",
      "1  4  7  10\n",
      "2  5  8  11\n",
      "3  6  9  12\n",
      "df.tail(5)=>\n",
      "    a  b   c\n",
      "1  4  7  10\n",
      "2  5  8  11\n",
      "3  6  9  12\n"
     ]
    }
   ],
   "source": [
    "# Subset observations in rows\n",
    "\n",
    "# select rows with criteria\n",
    "print(\"df[df.a>5]=>\\n\",df[df.a >= 5])  # extract rows that mets logical criteria i.e a with value >= 5.\n",
    "\n",
    "# drop duplicates\n",
    "print(\"df.drop_duplicates()=>\\n\", df.drop_duplicates()) # remove duplicate rows only consider columns\n",
    "\n",
    "# get samples\n",
    "print(\"df.sample(frac=0.5)=>\\n\", df.sample(frac=0.5)) # randomly select fraction of rows; this one changes=>random\n",
    "print(\"df.sample(n=10)=>\\n\", df.sample(n=2)) # randomly select n rows. n=10 throws error need to be less than size\n",
    "\n",
    "# df.nlargest(n, 'values') => select and orgder top n entries\n",
    "print(\"df.nlargest(2, 'a')=>\\n\", df.nlargest(2, 'a')) # orders in descending order\n",
    "# df.nsmallest(n, 'values') => select and orders bottom n entries\n",
    "print(\"df.nsmallest(2, 'a')=>\\n\", df.nsmallest(2, 'a')) # oders in ascending order\n",
    "\n",
    "print(\"df.head(5)=>\\n\",df.head(5)) # selects first n rows\n",
    "print(\"df.tail(5)=>\\n\", df.tail(5)) # selects last n rows"
   ]
  },
  {
   "cell_type": "code",
   "execution_count": 89,
   "id": "550cef84",
   "metadata": {},
   "outputs": [
    {
     "name": "stdout",
     "output_type": "stream",
     "text": [
      "df[['a','b']]=>\n",
      "    a  b\n",
      "1  4  7\n",
      "2  5  8\n",
      "3  6  9\n",
      "df['a']=>\n",
      " 1    4\n",
      "2    5\n",
      "3    6\n",
      "Name: a, dtype: int64\n",
      "df.a=>\n",
      " 1    4\n",
      "2    5\n",
      "3    6\n",
      "Name: a, dtype: int64\n"
     ]
    },
    {
     "data": {
      "text/html": [
       "<div>\n",
       "<style scoped>\n",
       "    .dataframe tbody tr th:only-of-type {\n",
       "        vertical-align: middle;\n",
       "    }\n",
       "\n",
       "    .dataframe tbody tr th {\n",
       "        vertical-align: top;\n",
       "    }\n",
       "\n",
       "    .dataframe thead th {\n",
       "        text-align: right;\n",
       "    }\n",
       "</style>\n",
       "<table border=\"1\" class=\"dataframe\">\n",
       "  <thead>\n",
       "    <tr style=\"text-align: right;\">\n",
       "      <th></th>\n",
       "    </tr>\n",
       "  </thead>\n",
       "  <tbody>\n",
       "    <tr>\n",
       "      <th>1</th>\n",
       "    </tr>\n",
       "    <tr>\n",
       "      <th>2</th>\n",
       "    </tr>\n",
       "    <tr>\n",
       "      <th>3</th>\n",
       "    </tr>\n",
       "  </tbody>\n",
       "</table>\n",
       "</div>"
      ],
      "text/plain": [
       "Empty DataFrame\n",
       "Columns: []\n",
       "Index: [1, 2, 3]"
      ]
     },
     "execution_count": 89,
     "metadata": {},
     "output_type": "execute_result"
    }
   ],
   "source": [
    "# Subset observation in columns\n",
    "\n",
    "# selecting multiple columns with names\n",
    "print(\"df[['a','b']]=>\\n\", df[['a','b']]) # select column a and column b\n",
    "\n",
    "# selecting single column\n",
    "print(\"df['a']=>\\n\", df['a']) \n",
    "print(\"df.a=>\\n\", df.a)\n",
    "\n",
    "# select columns whose name matches regular expression\n",
    "df.filter(regex='regex')"
   ]
  },
  {
   "cell_type": "code",
   "execution_count": 105,
   "id": "0fb3cece",
   "metadata": {},
   "outputs": [
    {
     "name": "stdout",
     "output_type": "stream",
     "text": [
      "df.iloc[1:2]=>\n",
      "    a  b   c\n",
      "2  5  8  11\n",
      "3  6  9  12\n",
      "df.iloc[:, [1,2]]=>\n",
      "    b   c\n",
      "1  7  10\n",
      "2  8  11\n",
      "3  9  12\n",
      "df.loc[:, 'a':'b']=>\n",
      "    a  b\n",
      "1  4  7\n",
      "2  5  8\n",
      "3  6  9\n",
      "df.loc[df['a']>5, ['a','c']]=>\n",
      "    a   c\n",
      "3  6  12\n",
      "df.iat[1,2]=>\n",
      " 11\n",
      "df.at[2, 'a']=>\n",
      " 5\n"
     ]
    }
   ],
   "source": [
    "# Subset observation with both rows and columns\n",
    "\n",
    "# Using df.loc[] and df.iloc to select only rows , only columns or both.\n",
    "# df.iloc = integer location= gets value based on index value (index can be in random order)\n",
    "# df.loc = location = gets value based on position i.e. from row values starting with 0.\n",
    "\n",
    "# using df.at[] and df.iat[] to select single values by row and columns.\n",
    "# iat=integer at = Access a single value for a row/column pair by integer position\n",
    "\n",
    "# df.loc[select_rows , select_columns]\n",
    "print(\"df.iloc[1:2]=>\\n\", df.iloc[1:3]) # select rows from 1 to 3 (excluding 3 i.e. 2 values)\n",
    "print(\"df.iloc[:, [1,2]]=>\\n\",df.iloc[:, [1,2]]) # select column in 1 and 2 position\n",
    "\n",
    "\n",
    "print(\"df.loc[:, 'a':'b']=>\\n\", df.loc[:, 'a':'b']) # select column from 'a' index to 'b' index('b' inclusive)\n",
    "print(\"df.loc[df['a']>5, ['a','c']]=>\\n\", df.loc[df['a']>5, ['a','c']]) # select the column meeting the logical condition and only columns specified\n",
    "\n",
    "\n",
    "print(\"df.iat[1,2]=>\\n\", df.iat[1,2]) # access single value by index\n",
    "print(\"df.at[2, 'a']=>\\n\", df.at[2, 'a']) # access single value by label"
   ]
  },
  {
   "cell_type": "markdown",
   "id": "c3515397",
   "metadata": {},
   "source": [
    "### Summarize data\n",
    "\n",
    "value_counts(), shape, nunique(), describe()\n",
    "1. df['w'].value_counts() => counts number of rows with each unique value of variable\n",
    "2. len(df) => number of rows in df\n",
    "3. df['w'].nunique() => no. of distinct value in a column\n",
    "4. df.describe() => basic description and statistics for each column (or groupby)\n",
    "\n",
    "\n",
    "Summarization functions: \n",
    "sum(), min(), max(), median(), count(), var(), std(), apply(function), quartile([0.25, 0.75])\n",
    "\n",
    "------------------------------\n",
    "\n",
    "\n"
   ]
  },
  {
   "cell_type": "code",
   "execution_count": 123,
   "id": "2437c648",
   "metadata": {},
   "outputs": [
    {
     "name": "stdout",
     "output_type": "stream",
     "text": [
      "df1.value_counts()=>\n",
      " a  b  c \n",
      "4  7  10    2\n",
      "5  8  11    2\n",
      "6  9  12    2\n",
      "dtype: int64\n",
      "len(df1)=> 6\n",
      "df1.shape=> (6, 3)\n",
      "df1['a'].nunique()=> 3\n",
      "3\n",
      "df1.describe()=>\n",
      "               a         b          c\n",
      "count  6.000000  6.000000   6.000000\n",
      "mean   5.000000  8.000000  11.000000\n",
      "std    0.894427  0.894427   0.894427\n",
      "min    4.000000  7.000000  10.000000\n",
      "25%    4.250000  7.250000  10.250000\n",
      "50%    5.000000  8.000000  11.000000\n",
      "75%    5.750000  8.750000  11.750000\n",
      "max    6.000000  9.000000  12.000000\n"
     ]
    }
   ],
   "source": [
    "df1 = pd.concat([df, df])\n",
    "print(\"df1.value_counts()=>\\n\", df1.value_counts()) # gives unique values with count\n",
    "print(\"len(df1)=>\",len(df1)) # length of dataframe\n",
    "print(\"df1.shape=>\", df1.shape) # tuple of number of rows and no. of columns((rows, column))\n",
    "print(\"df1['a'].nunique()=>\", df1['a'].nunique()) # no. of distinct values in a column\n",
    "print(df1.a.nunique()) # same as above no. of distinct value with df1.a\n",
    "print(\"df1.describe()=>\\n\", df1.describe())"
   ]
  },
  {
   "cell_type": "code",
   "execution_count": 144,
   "id": "9c58a54c",
   "metadata": {},
   "outputs": [
    {
     "name": "stdout",
     "output_type": "stream",
     "text": [
      "df['a'].sum()=> 15\n",
      "df.sum()=>\n",
      " a    15\n",
      "b    24\n",
      "c    33\n",
      "dtype: int64\n",
      "df.min()=>\n",
      " a     4\n",
      "b     7\n",
      "c    10\n",
      "dtype: int64\n",
      "df.max()=>\n",
      " a     6\n",
      "b     9\n",
      "c    12\n",
      "dtype: int64\n",
      "df.mean()=>\n",
      " a     5.0\n",
      "b     8.0\n",
      "c    11.0\n",
      "dtype: float64\n",
      "df.median()=>\n",
      " a     5.0\n",
      "b     8.0\n",
      "c    11.0\n",
      "dtype: float64\n",
      "df.var()=>\n",
      "  a    1.0\n",
      "b    1.0\n",
      "c    1.0\n",
      "dtype: float64\n",
      "df.std()=> \n",
      " a    1.0\n",
      "b    1.0\n",
      "c    1.0\n",
      "dtype: float64\n",
      "df.quantile([0.25, 0.75])=>\n",
      "         a    b     c\n",
      "0.25  4.5  7.5  10.5\n",
      "0.75  5.5  8.5  11.5\n",
      "df.median()=>\n",
      " a     5.0\n",
      "b     8.0\n",
      "c    11.0\n",
      "dtype: float64\n"
     ]
    }
   ],
   "source": [
    "# Sum = sum of the values of each object\n",
    "print(\"df['a'].sum()=>\", df['a'].sum())\n",
    "print(\"df.sum()=>\\n\", df.sum())\n",
    "\n",
    "# min() - minimum value in each object\n",
    "print(\"df.min()=>\\n\", df.min())\n",
    "\n",
    "# max() - maximum value in each object\n",
    "print(\"df.max()=>\\n\", df.max())\n",
    "\n",
    "print(\"df.mean()=>\\n\", df.mean()) # mean value in each object in a column\n",
    "\n",
    "print(\"df.median()=>\\n\", df.median()) # median value of each object in a column\n",
    "\n",
    "print(\"df.var()=>\\n \", df.var()) # variance of each object in a column\n",
    "\n",
    "print(\"df.std()=> \\n\", df.std())# standard deviation of each object in a column\n",
    "\n",
    "print(\"df.quantile([0.25, 0.75])=>\\n\", df.quantile([0.25, 0.75])) # quantiles of each object\n",
    "\n",
    "print(\"df.median()=>\\n\", df.median()) # median value of each object in column"
   ]
  },
  {
   "cell_type": "markdown",
   "id": "cbb03a2a",
   "metadata": {},
   "source": [
    "### Group Data\n",
    "\n",
    "using df.groupby() to group data. "
   ]
  },
  {
   "cell_type": "code",
   "execution_count": 178,
   "id": "773e056d",
   "metadata": {
    "scrolled": false
   },
   "outputs": [
    {
     "name": "stdout",
     "output_type": "stream",
     "text": [
      "   a  b   c\n",
      "1  4  7  10\n",
      "2  5  8  11\n",
      "3  6  9  12\n",
      "1  4  7  10\n",
      "2  5  8  11\n",
      "3  6  9  12\n",
      "<pandas.core.groupby.generic.DataFrameGroupBy object at 0x7fd2d47d5510>\n",
      "df1.groupby(by='a').sum()=>\n",
      "     b   c\n",
      "a        \n",
      "4  14  20\n",
      "5  16  22\n",
      "6  18  24\n",
      "df1.groupby(by='a').mean()=>\n",
      "      b     c\n",
      "a           \n",
      "4  7.0  10.0\n",
      "5  8.0  11.0\n",
      "6  9.0  12.0\n",
      "df1.groupby(by='a').mean ()['b']=>\n",
      " a\n",
      "4    7.0\n",
      "5    8.0\n",
      "6    9.0\n",
      "Name: b, dtype: float64\n",
      "df1.groupby('a').size()=>\n",
      " a\n",
      "4    2\n",
      "5    2\n",
      "6    2\n",
      "dtype: int64\n",
      "   b   c\n",
      "a       \n",
      "4  7  10\n",
      "5  8  11\n",
      "6  9  12\n",
      "    b          c       \n",
      "  max median max median\n",
      "a                      \n",
      "4   7    7.0  10   10.0\n",
      "5   8    8.0  11   11.0\n",
      "6   9    9.0  12   12.0\n",
      "df1.groupby('a').agg(func)=>\n",
      "      b     c\n",
      "a           \n",
      "4  0.0  10.0\n",
      "5  0.0  11.0\n",
      "6  9.0  12.0\n",
      "     Animal  Max Speed\n",
      "ind                   \n",
      "1    Falcon      380.0\n",
      "2    Falcon      370.0\n",
      "3    Parrot       24.0\n",
      "4    Parrot       26.0\n"
     ]
    }
   ],
   "source": [
    "print(df1)\n",
    "\n",
    "# below returns a groupby object, grouped by values in column named 'a'\n",
    "print(df1.groupby(by='a')) # this returns groupby object \n",
    "\n",
    "# we need summarization function to show grouped results. E.g.\n",
    "print(\"df1.groupby(by='a').sum()=>\\n\", df1.groupby(by='a').sum()) # get sum after group by\n",
    "print(\"df1.groupby(by='a').mean()=>\\n\", df1.groupby(by='a').mean ()) # get mean after group by\n",
    "\n",
    "\n",
    "# how to get only 'b' column value ; use ...['colname'] filter\n",
    "print(\"df1.groupby(by='a').mean ()['b']=>\\n\", df1.groupby(by='a').mean ()['b'])\n",
    "\n",
    "\n",
    "# All the summarization function can be add to the groupby clause. Also we have\n",
    "# 1. size() => sie of each group\n",
    "# 2. agg(function) => aggregate group using function\n",
    "\n",
    "print(\"df1.groupby('a').size()=>\\n\", df1.groupby('a').size())\n",
    "\n",
    "print(df1.groupby('a').agg('min')) # summarization function\n",
    "print(df1.groupby('a').agg(['max', 'median']))\n",
    "\n",
    "\n",
    "# using custom function in groupby \n",
    "def func(val):\n",
    "    \"\"\"val is a series of data\"\"\"\n",
    "    if val.mean() > 8:\n",
    "        return val.mean()\n",
    "    else:\n",
    "        return 0\n",
    "\n",
    "print(\"df1.groupby('a').agg(func)=>\\n\", df1.groupby('a').agg(func)) # similar to as ... .agg('min') but with else\n",
    "\n",
    "\n",
    "df33 = pd.DataFrame({'Animal': ['Falcon', 'Falcon',\n",
    "                              'Parrot', 'Parrot'],\n",
    "                   'Max Speed': [380., 370., 24., 26.]},\n",
    "                   index=[1,2,3, 4])\n",
    "df33.index.name='ind'\n",
    "# group by values in index level named 'ind'\n",
    "print(df33.groupby(level='ind').min())"
   ]
  },
  {
   "cell_type": "markdown",
   "id": "caff3863",
   "metadata": {},
   "source": [
    "### Windows function\n",
    "df.expanding() => return an expanding objet allowing summary functions to be applied cumulatively. \n",
    "\n",
    "df.rolling(n) => return a rolling object allowing summary functions to be applied to windows of length n"
   ]
  },
  {
   "cell_type": "code",
   "execution_count": 181,
   "id": "0df01dfa",
   "metadata": {},
   "outputs": [
    {
     "name": "stdout",
     "output_type": "stream",
     "text": [
      "   a  b   c\n",
      "1  4  7  10\n",
      "2  5  8  11\n",
      "3  6  9  12\n",
      "1  4  7  10\n",
      "2  5  8  11\n",
      "3  6  9  12\n"
     ]
    },
    {
     "data": {
      "text/html": [
       "<div>\n",
       "<style scoped>\n",
       "    .dataframe tbody tr th:only-of-type {\n",
       "        vertical-align: middle;\n",
       "    }\n",
       "\n",
       "    .dataframe tbody tr th {\n",
       "        vertical-align: top;\n",
       "    }\n",
       "\n",
       "    .dataframe thead th {\n",
       "        text-align: right;\n",
       "    }\n",
       "</style>\n",
       "<table border=\"1\" class=\"dataframe\">\n",
       "  <thead>\n",
       "    <tr style=\"text-align: right;\">\n",
       "      <th></th>\n",
       "      <th>a</th>\n",
       "      <th>b</th>\n",
       "      <th>c</th>\n",
       "    </tr>\n",
       "  </thead>\n",
       "  <tbody>\n",
       "    <tr>\n",
       "      <th>1</th>\n",
       "      <td>NaN</td>\n",
       "      <td>NaN</td>\n",
       "      <td>NaN</td>\n",
       "    </tr>\n",
       "    <tr>\n",
       "      <th>2</th>\n",
       "      <td>4.5</td>\n",
       "      <td>7.5</td>\n",
       "      <td>10.5</td>\n",
       "    </tr>\n",
       "    <tr>\n",
       "      <th>3</th>\n",
       "      <td>5.5</td>\n",
       "      <td>8.5</td>\n",
       "      <td>11.5</td>\n",
       "    </tr>\n",
       "    <tr>\n",
       "      <th>1</th>\n",
       "      <td>5.0</td>\n",
       "      <td>8.0</td>\n",
       "      <td>11.0</td>\n",
       "    </tr>\n",
       "    <tr>\n",
       "      <th>2</th>\n",
       "      <td>4.5</td>\n",
       "      <td>7.5</td>\n",
       "      <td>10.5</td>\n",
       "    </tr>\n",
       "    <tr>\n",
       "      <th>3</th>\n",
       "      <td>5.5</td>\n",
       "      <td>8.5</td>\n",
       "      <td>11.5</td>\n",
       "    </tr>\n",
       "  </tbody>\n",
       "</table>\n",
       "</div>"
      ],
      "text/plain": [
       "     a    b     c\n",
       "1  NaN  NaN   NaN\n",
       "2  4.5  7.5  10.5\n",
       "3  5.5  8.5  11.5\n",
       "1  5.0  8.0  11.0\n",
       "2  4.5  7.5  10.5\n",
       "3  5.5  8.5  11.5"
      ]
     },
     "execution_count": 181,
     "metadata": {},
     "output_type": "execute_result"
    }
   ],
   "source": [
    "print(df1)\n",
    "df1.rolling(2).mean() # get mean of rollowing window 2"
   ]
  },
  {
   "cell_type": "markdown",
   "id": "2835fdb6",
   "metadata": {},
   "source": [
    "### Handling missing data\n",
    "using df.dropna() and df.fillna() "
   ]
  },
  {
   "cell_type": "code",
   "execution_count": 183,
   "id": "51b7aa4a",
   "metadata": {},
   "outputs": [
    {
     "data": {
      "text/html": [
       "<div>\n",
       "<style scoped>\n",
       "    .dataframe tbody tr th:only-of-type {\n",
       "        vertical-align: middle;\n",
       "    }\n",
       "\n",
       "    .dataframe tbody tr th {\n",
       "        vertical-align: top;\n",
       "    }\n",
       "\n",
       "    .dataframe thead th {\n",
       "        text-align: right;\n",
       "    }\n",
       "</style>\n",
       "<table border=\"1\" class=\"dataframe\">\n",
       "  <thead>\n",
       "    <tr style=\"text-align: right;\">\n",
       "      <th></th>\n",
       "      <th>a</th>\n",
       "      <th>b</th>\n",
       "      <th>c</th>\n",
       "    </tr>\n",
       "  </thead>\n",
       "  <tbody>\n",
       "    <tr>\n",
       "      <th>1</th>\n",
       "      <td>4</td>\n",
       "      <td>7</td>\n",
       "      <td>10</td>\n",
       "    </tr>\n",
       "    <tr>\n",
       "      <th>2</th>\n",
       "      <td>5</td>\n",
       "      <td>8</td>\n",
       "      <td>11</td>\n",
       "    </tr>\n",
       "    <tr>\n",
       "      <th>3</th>\n",
       "      <td>6</td>\n",
       "      <td>9</td>\n",
       "      <td>12</td>\n",
       "    </tr>\n",
       "    <tr>\n",
       "      <th>1</th>\n",
       "      <td>4</td>\n",
       "      <td>7</td>\n",
       "      <td>10</td>\n",
       "    </tr>\n",
       "    <tr>\n",
       "      <th>2</th>\n",
       "      <td>5</td>\n",
       "      <td>8</td>\n",
       "      <td>11</td>\n",
       "    </tr>\n",
       "    <tr>\n",
       "      <th>3</th>\n",
       "      <td>6</td>\n",
       "      <td>9</td>\n",
       "      <td>12</td>\n",
       "    </tr>\n",
       "  </tbody>\n",
       "</table>\n",
       "</div>"
      ],
      "text/plain": [
       "   a  b   c\n",
       "1  4  7  10\n",
       "2  5  8  11\n",
       "3  6  9  12\n",
       "1  4  7  10\n",
       "2  5  8  11\n",
       "3  6  9  12"
      ]
     },
     "execution_count": 183,
     "metadata": {},
     "output_type": "execute_result"
    }
   ],
   "source": [
    "df1.dropna() # drops rows with any column having NA/null value/data.\n",
    "# df1.fillna(value) # replace all NA/null data with value\n",
    "df1.fillna(0) # here it means fill with 0"
   ]
  },
  {
   "cell_type": "markdown",
   "id": "c3d96615",
   "metadata": {},
   "source": [
    "### Making new columns\n",
    "df.assign(columnname=lambda df:df.a *df.b) # assign columnname column with multiple of a and b column\n",
    "\n",
    "similarly,\n",
    "df['columnname']=df.a * df.b  # add a single column\n",
    "\n",
    "pd.qcut(df.col, n, labels=False) => bin columns into n buckets\n",
    "\n",
    "max(axis=1) => element wise maximum\n",
    "min(axix=1) => element wise minimum\n",
    "\n",
    "clip(lower=-10, upper =10) # trim values at input threshold\n",
    "abs() => absolute value"
   ]
  },
  {
   "cell_type": "code",
   "execution_count": 188,
   "id": "c4505459",
   "metadata": {},
   "outputs": [
    {
     "name": "stdout",
     "output_type": "stream",
     "text": [
      "   a  b   c  max_value\n",
      "1  4  7  10         10\n",
      "2  5  8  11         11\n",
      "3  6  9  12         12\n",
      "1  4  7  10         10\n",
      "2  5  8  11         11\n",
      "3  6  9  12         12\n",
      "   a  b   c  max_value\n",
      "1  4  7  10         10\n",
      "2  5  8  11         11\n",
      "3  6  9  12         12\n",
      "1  4  7  10         10\n",
      "2  5  8  11         11\n",
      "3  6  9  12         12\n",
      "df1.clip(lower=5, upper=7)=>\n",
      "    a  b  c  max_value\n",
      "1  5  7  7          7\n",
      "2  5  7  7          7\n",
      "3  6  7  7          7\n",
      "1  5  7  7          7\n",
      "2  5  7  7          7\n",
      "3  6  7  7          7\n"
     ]
    }
   ],
   "source": [
    "print(df1)\n",
    "\n",
    "df1['max_value'] = df1.max(axis=1)\n",
    "print(df1) # print the df1 now with max values as well.\n",
    "\n",
    "\n",
    "# this clips values ; if value is less then 5 it will be 5 and more than 7 it will be 7 and inbetween then as it is\n",
    "print(\"df1.clip(lower=5, upper=7)=>\\n\", df1.clip(lower=5, upper=7))\n"
   ]
  },
  {
   "cell_type": "markdown",
   "id": "a1d9f227",
   "metadata": {},
   "source": [
    "###  Plotting\n",
    "df.plot.hist() => histogram for each column\n",
    "\n",
    "df.plot.scatter(x='a', y='b') => scatter plot using points from a and b column"
   ]
  },
  {
   "cell_type": "code",
   "execution_count": 189,
   "id": "f987619f",
   "metadata": {},
   "outputs": [
    {
     "data": {
      "text/plain": [
       "<Axes: ylabel='Frequency'>"
      ]
     },
     "execution_count": 189,
     "metadata": {},
     "output_type": "execute_result"
    },
    {
     "data": {
      "image/png": "[encoded data removed]",
      "text/plain": [
       "<Figure size 640x480 with 1 Axes>"
      ]
     },
     "metadata": {},
     "output_type": "display_data"
    }
   ],
   "source": [
    "df.plot.hist() "
   ]
  },
  {
   "cell_type": "code",
   "execution_count": 192,
   "id": "4b9e3fdf",
   "metadata": {},
   "outputs": [
    {
     "data": {
      "text/plain": [
       "<Axes: xlabel='a', ylabel='b'>"
      ]
     },
     "execution_count": 192,
     "metadata": {},
     "output_type": "execute_result"
    },
    {
     "data": {
      "image/png": "[encoded data removed]",
      "text/plain": [
       "<Figure size 640x480 with 1 Axes>"
      ]
     },
     "metadata": {},
     "output_type": "display_data"
    }
   ],
   "source": [
    "df.plot.scatter(x='a', y='b')"
   ]
  },
  {
   "cell_type": "markdown",
   "id": "822b1de9",
   "metadata": {},
   "source": [
    "## Combining datset (using joins)\n",
    "\n",
    "pd.merge(df1, df2, how='left/right/inner/outer', on='colname') => merge two dataframe on colname using how condition."
   ]
  },
  {
   "cell_type": "code",
   "execution_count": 196,
   "id": "a172f1fc",
   "metadata": {},
   "outputs": [
    {
     "name": "stdout",
     "output_type": "stream",
     "text": [
      "  x1  x2\n",
      "0  A   1\n",
      "1  B   2\n",
      "2  C   3\n",
      "  x1 x3\n",
      "0  A  T\n",
      "1  B  F\n",
      "2  D  T\n"
     ]
    }
   ],
   "source": [
    "adf = pd.DataFrame({\n",
    "    'x1':['A', 'B', 'C'],\n",
    "    'x2': [1,2,3]})\n",
    "print(adf)\n",
    "\n",
    "bdf = pd.DataFrame({\n",
    "    'x1':['A', 'B', 'D'],\n",
    "    'x3': ['T','F','T']})\n",
    "print(bdf)"
   ]
  },
  {
   "cell_type": "code",
   "execution_count": 200,
   "id": "c8a22d3a",
   "metadata": {},
   "outputs": [
    {
     "data": {
      "text/html": [
       "<div>\n",
       "<style scoped>\n",
       "    .dataframe tbody tr th:only-of-type {\n",
       "        vertical-align: middle;\n",
       "    }\n",
       "\n",
       "    .dataframe tbody tr th {\n",
       "        vertical-align: top;\n",
       "    }\n",
       "\n",
       "    .dataframe thead th {\n",
       "        text-align: right;\n",
       "    }\n",
       "</style>\n",
       "<table border=\"1\" class=\"dataframe\">\n",
       "  <thead>\n",
       "    <tr style=\"text-align: right;\">\n",
       "      <th></th>\n",
       "      <th>x1</th>\n",
       "      <th>x2</th>\n",
       "      <th>x3</th>\n",
       "    </tr>\n",
       "  </thead>\n",
       "  <tbody>\n",
       "    <tr>\n",
       "      <th>0</th>\n",
       "      <td>A</td>\n",
       "      <td>1</td>\n",
       "      <td>T</td>\n",
       "    </tr>\n",
       "    <tr>\n",
       "      <th>1</th>\n",
       "      <td>B</td>\n",
       "      <td>2</td>\n",
       "      <td>F</td>\n",
       "    </tr>\n",
       "    <tr>\n",
       "      <th>2</th>\n",
       "      <td>C</td>\n",
       "      <td>3</td>\n",
       "      <td>NaN</td>\n",
       "    </tr>\n",
       "  </tbody>\n",
       "</table>\n",
       "</div>"
      ],
      "text/plain": [
       "  x1  x2   x3\n",
       "0  A   1    T\n",
       "1  B   2    F\n",
       "2  C   3  NaN"
      ]
     },
     "execution_count": 200,
     "metadata": {},
     "output_type": "execute_result"
    }
   ],
   "source": [
    "pd.merge(adf, bdf, how='left', on='x1') # using left join"
   ]
  },
  {
   "cell_type": "code",
   "execution_count": 201,
   "id": "c0c3b346",
   "metadata": {},
   "outputs": [
    {
     "data": {
      "text/html": [
       "<div>\n",
       "<style scoped>\n",
       "    .dataframe tbody tr th:only-of-type {\n",
       "        vertical-align: middle;\n",
       "    }\n",
       "\n",
       "    .dataframe tbody tr th {\n",
       "        vertical-align: top;\n",
       "    }\n",
       "\n",
       "    .dataframe thead th {\n",
       "        text-align: right;\n",
       "    }\n",
       "</style>\n",
       "<table border=\"1\" class=\"dataframe\">\n",
       "  <thead>\n",
       "    <tr style=\"text-align: right;\">\n",
       "      <th></th>\n",
       "      <th>x1</th>\n",
       "      <th>x2</th>\n",
       "      <th>x3</th>\n",
       "    </tr>\n",
       "  </thead>\n",
       "  <tbody>\n",
       "    <tr>\n",
       "      <th>0</th>\n",
       "      <td>A</td>\n",
       "      <td>1.0</td>\n",
       "      <td>T</td>\n",
       "    </tr>\n",
       "    <tr>\n",
       "      <th>1</th>\n",
       "      <td>B</td>\n",
       "      <td>2.0</td>\n",
       "      <td>F</td>\n",
       "    </tr>\n",
       "    <tr>\n",
       "      <th>2</th>\n",
       "      <td>D</td>\n",
       "      <td>NaN</td>\n",
       "      <td>T</td>\n",
       "    </tr>\n",
       "  </tbody>\n",
       "</table>\n",
       "</div>"
      ],
      "text/plain": [
       "  x1   x2 x3\n",
       "0  A  1.0  T\n",
       "1  B  2.0  F\n",
       "2  D  NaN  T"
      ]
     },
     "execution_count": 201,
     "metadata": {},
     "output_type": "execute_result"
    }
   ],
   "source": [
    "pd.merge(adf, bdf, how='right', on='x1') # right join"
   ]
  },
  {
   "cell_type": "code",
   "execution_count": 202,
   "id": "f84e299c",
   "metadata": {},
   "outputs": [
    {
     "data": {
      "text/html": [
       "<div>\n",
       "<style scoped>\n",
       "    .dataframe tbody tr th:only-of-type {\n",
       "        vertical-align: middle;\n",
       "    }\n",
       "\n",
       "    .dataframe tbody tr th {\n",
       "        vertical-align: top;\n",
       "    }\n",
       "\n",
       "    .dataframe thead th {\n",
       "        text-align: right;\n",
       "    }\n",
       "</style>\n",
       "<table border=\"1\" class=\"dataframe\">\n",
       "  <thead>\n",
       "    <tr style=\"text-align: right;\">\n",
       "      <th></th>\n",
       "      <th>x1</th>\n",
       "      <th>x2</th>\n",
       "      <th>x3</th>\n",
       "    </tr>\n",
       "  </thead>\n",
       "  <tbody>\n",
       "    <tr>\n",
       "      <th>0</th>\n",
       "      <td>A</td>\n",
       "      <td>1</td>\n",
       "      <td>T</td>\n",
       "    </tr>\n",
       "    <tr>\n",
       "      <th>1</th>\n",
       "      <td>B</td>\n",
       "      <td>2</td>\n",
       "      <td>F</td>\n",
       "    </tr>\n",
       "  </tbody>\n",
       "</table>\n",
       "</div>"
      ],
      "text/plain": [
       "  x1  x2 x3\n",
       "0  A   1  T\n",
       "1  B   2  F"
      ]
     },
     "execution_count": 202,
     "metadata": {},
     "output_type": "execute_result"
    }
   ],
   "source": [
    "pd.merge(adf, bdf, how='inner', on='x1') # inner join"
   ]
  },
  {
   "cell_type": "code",
   "execution_count": 203,
   "id": "cc223068",
   "metadata": {},
   "outputs": [
    {
     "data": {
      "text/html": [
       "<div>\n",
       "<style scoped>\n",
       "    .dataframe tbody tr th:only-of-type {\n",
       "        vertical-align: middle;\n",
       "    }\n",
       "\n",
       "    .dataframe tbody tr th {\n",
       "        vertical-align: top;\n",
       "    }\n",
       "\n",
       "    .dataframe thead th {\n",
       "        text-align: right;\n",
       "    }\n",
       "</style>\n",
       "<table border=\"1\" class=\"dataframe\">\n",
       "  <thead>\n",
       "    <tr style=\"text-align: right;\">\n",
       "      <th></th>\n",
       "      <th>x1</th>\n",
       "      <th>x2</th>\n",
       "      <th>x3</th>\n",
       "    </tr>\n",
       "  </thead>\n",
       "  <tbody>\n",
       "    <tr>\n",
       "      <th>0</th>\n",
       "      <td>A</td>\n",
       "      <td>1.0</td>\n",
       "      <td>T</td>\n",
       "    </tr>\n",
       "    <tr>\n",
       "      <th>1</th>\n",
       "      <td>B</td>\n",
       "      <td>2.0</td>\n",
       "      <td>F</td>\n",
       "    </tr>\n",
       "    <tr>\n",
       "      <th>2</th>\n",
       "      <td>C</td>\n",
       "      <td>3.0</td>\n",
       "      <td>NaN</td>\n",
       "    </tr>\n",
       "    <tr>\n",
       "      <th>3</th>\n",
       "      <td>D</td>\n",
       "      <td>NaN</td>\n",
       "      <td>T</td>\n",
       "    </tr>\n",
       "  </tbody>\n",
       "</table>\n",
       "</div>"
      ],
      "text/plain": [
       "  x1   x2   x3\n",
       "0  A  1.0    T\n",
       "1  B  2.0    F\n",
       "2  C  3.0  NaN\n",
       "3  D  NaN    T"
      ]
     },
     "execution_count": 203,
     "metadata": {},
     "output_type": "execute_result"
    }
   ],
   "source": [
    "pd.merge(adf, bdf, how='outer', on='x1') # outer join"
   ]
  },
  {
   "cell_type": "code",
   "execution_count": 204,
   "id": "274449ba",
   "metadata": {},
   "outputs": [
    {
     "data": {
      "text/html": [
       "<div>\n",
       "<style scoped>\n",
       "    .dataframe tbody tr th:only-of-type {\n",
       "        vertical-align: middle;\n",
       "    }\n",
       "\n",
       "    .dataframe tbody tr th {\n",
       "        vertical-align: top;\n",
       "    }\n",
       "\n",
       "    .dataframe thead th {\n",
       "        text-align: right;\n",
       "    }\n",
       "</style>\n",
       "<table border=\"1\" class=\"dataframe\">\n",
       "  <thead>\n",
       "    <tr style=\"text-align: right;\">\n",
       "      <th></th>\n",
       "      <th>x1</th>\n",
       "      <th>x2</th>\n",
       "    </tr>\n",
       "  </thead>\n",
       "  <tbody>\n",
       "    <tr>\n",
       "      <th>0</th>\n",
       "      <td>A</td>\n",
       "      <td>1</td>\n",
       "    </tr>\n",
       "    <tr>\n",
       "      <th>1</th>\n",
       "      <td>B</td>\n",
       "      <td>2</td>\n",
       "    </tr>\n",
       "  </tbody>\n",
       "</table>\n",
       "</div>"
      ],
      "text/plain": [
       "  x1  x2\n",
       "0  A   1\n",
       "1  B   2"
      ]
     },
     "execution_count": 204,
     "metadata": {},
     "output_type": "execute_result"
    }
   ],
   "source": [
    "# filtering joins\n",
    "\n",
    "# filter all rows in adf that has match in bdf\n",
    "adf[adf.x1.isin(bdf.x1)]"
   ]
  },
  {
   "cell_type": "code",
   "execution_count": 205,
   "id": "06e30e3e",
   "metadata": {},
   "outputs": [
    {
     "data": {
      "text/html": [
       "<div>\n",
       "<style scoped>\n",
       "    .dataframe tbody tr th:only-of-type {\n",
       "        vertical-align: middle;\n",
       "    }\n",
       "\n",
       "    .dataframe tbody tr th {\n",
       "        vertical-align: top;\n",
       "    }\n",
       "\n",
       "    .dataframe thead th {\n",
       "        text-align: right;\n",
       "    }\n",
       "</style>\n",
       "<table border=\"1\" class=\"dataframe\">\n",
       "  <thead>\n",
       "    <tr style=\"text-align: right;\">\n",
       "      <th></th>\n",
       "      <th>x1</th>\n",
       "      <th>x2</th>\n",
       "    </tr>\n",
       "  </thead>\n",
       "  <tbody>\n",
       "    <tr>\n",
       "      <th>2</th>\n",
       "      <td>C</td>\n",
       "      <td>3</td>\n",
       "    </tr>\n",
       "  </tbody>\n",
       "</table>\n",
       "</div>"
      ],
      "text/plain": [
       "  x1  x2\n",
       "2  C   3"
      ]
     },
     "execution_count": 205,
     "metadata": {},
     "output_type": "execute_result"
    }
   ],
   "source": [
    "# all the columns in adf that is not a match in bdf\n",
    "adf[~adf.x1.isin(bdf.x1)]"
   ]
  },
  {
   "cell_type": "markdown",
   "id": "866df0ad",
   "metadata": {},
   "source": [
    "### Using query\n",
    "df.query(condition) => query allows boolean expression for filtering rows."
   ]
  },
  {
   "cell_type": "code",
   "execution_count": 208,
   "id": "6b953e05",
   "metadata": {},
   "outputs": [
    {
     "data": {
      "text/html": [
       "<div>\n",
       "<style scoped>\n",
       "    .dataframe tbody tr th:only-of-type {\n",
       "        vertical-align: middle;\n",
       "    }\n",
       "\n",
       "    .dataframe tbody tr th {\n",
       "        vertical-align: top;\n",
       "    }\n",
       "\n",
       "    .dataframe thead th {\n",
       "        text-align: right;\n",
       "    }\n",
       "</style>\n",
       "<table border=\"1\" class=\"dataframe\">\n",
       "  <thead>\n",
       "    <tr style=\"text-align: right;\">\n",
       "      <th></th>\n",
       "      <th>a</th>\n",
       "      <th>b</th>\n",
       "      <th>c</th>\n",
       "    </tr>\n",
       "  </thead>\n",
       "  <tbody>\n",
       "    <tr>\n",
       "      <th>3</th>\n",
       "      <td>6</td>\n",
       "      <td>9</td>\n",
       "      <td>12</td>\n",
       "    </tr>\n",
       "  </tbody>\n",
       "</table>\n",
       "</div>"
      ],
      "text/plain": [
       "   a  b   c\n",
       "3  6  9  12"
      ]
     },
     "execution_count": 208,
     "metadata": {},
     "output_type": "execute_result"
    }
   ],
   "source": [
    "df.query('a>5')"
   ]
  },
  {
   "cell_type": "code",
   "execution_count": 209,
   "id": "93f646e4",
   "metadata": {},
   "outputs": [
    {
     "data": {
      "text/html": [
       "<div>\n",
       "<style scoped>\n",
       "    .dataframe tbody tr th:only-of-type {\n",
       "        vertical-align: middle;\n",
       "    }\n",
       "\n",
       "    .dataframe tbody tr th {\n",
       "        vertical-align: top;\n",
       "    }\n",
       "\n",
       "    .dataframe thead th {\n",
       "        text-align: right;\n",
       "    }\n",
       "</style>\n",
       "<table border=\"1\" class=\"dataframe\">\n",
       "  <thead>\n",
       "    <tr style=\"text-align: right;\">\n",
       "      <th></th>\n",
       "      <th>a</th>\n",
       "      <th>b</th>\n",
       "      <th>c</th>\n",
       "    </tr>\n",
       "  </thead>\n",
       "  <tbody>\n",
       "    <tr>\n",
       "      <th>1</th>\n",
       "      <td>4</td>\n",
       "      <td>7</td>\n",
       "      <td>10</td>\n",
       "    </tr>\n",
       "    <tr>\n",
       "      <th>2</th>\n",
       "      <td>5</td>\n",
       "      <td>8</td>\n",
       "      <td>11</td>\n",
       "    </tr>\n",
       "  </tbody>\n",
       "</table>\n",
       "</div>"
      ],
      "text/plain": [
       "   a  b   c\n",
       "1  4  7  10\n",
       "2  5  8  11"
      ]
     },
     "execution_count": 209,
     "metadata": {},
     "output_type": "execute_result"
    }
   ],
   "source": [
    "df.query('a>1 and b <9')"
   ]
  }
 ],
 "metadata": {
  "kernelspec": {
   "display_name": "Python 3 (ipykernel)",
   "language": "python",
   "name": "python3"
  },
  "language_info": {
   "codemirror_mode": {
    "name": "ipython",
    "version": 3
   },
   "file_extension": ".py",
   "mimetype": "text/x-python",
   "name": "python",
   "nbconvert_exporter": "python",
   "pygments_lexer": "ipython3",
   "version": "3.10.9"
  }
 },
 "nbformat": 4,
 "nbformat_minor": 5
}
