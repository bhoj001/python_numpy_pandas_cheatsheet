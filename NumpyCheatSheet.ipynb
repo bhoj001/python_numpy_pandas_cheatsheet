{
 "cells": [
  {
   "cell_type": "code",
   "execution_count": 79,
   "id": "5ccb5cf0-cb34-49b6-a2ca-8cb4732a1a4d",
   "metadata": {},
   "outputs": [],
   "source": [
    "#!pip install numpy"
   ]
  },
  {
   "cell_type": "code",
   "execution_count": 80,
   "id": "e4b0b087-065b-439f-b4f7-f143e30d3048",
   "metadata": {},
   "outputs": [
    {
     "name": "stdout",
     "output_type": "stream",
     "text": [
      "a=>  [1 2 3] (3,) int64\n",
      "b=>  [[1.5 2.  3. ]\n",
      " [4.  5.  6. ]] (2, 3)\n",
      "c=>  [[[1.5 2.  3. ]\n",
      "  [4.  5.  6. ]]\n",
      "\n",
      " [[3.  2.  1. ]\n",
      "  [4.  5.  6. ]]] (2, 2, 3) float64\n"
     ]
    }
   ],
   "source": [
    "import numpy as np\n",
    "\n",
    "# Numpy Array\n",
    "\n",
    "# 1D array \n",
    "a = np.array([1,2,3])\n",
    "print(\"a=> \", a, a.shape, a.dtype)\n",
    "\n",
    "#2D array \n",
    "b = np.array([[1.5, 2, 3],[4, 5, 6]], dtype=float)\n",
    "print(\"b=> \", b, b.shape)\n",
    "\n",
    "#3D array\n",
    "c = np.array([[(1.5, 2, 3),(4, 5,6)],[(3,2,1),(4,5,6)]], dtype=float) # by default it's float\n",
    "print(\"c=> \", c, c.shape, c.dtype) \n"
   ]
  },
  {
   "cell_type": "code",
   "execution_count": 81,
   "id": "7cb395a2-951b-4bf9-88d6-1f1220b49f99",
   "metadata": {},
   "outputs": [
    {
     "name": "stdout",
     "output_type": "stream",
     "text": [
      "np.zeros((3,4)) =>\n",
      " [[0. 0. 0. 0.]\n",
      " [0. 0. 0. 0.]\n",
      " [0. 0. 0. 0.]]\n",
      "np.ones((2,3,4), dtype=np.int16) =>\n",
      " [[[1 1 1 1]\n",
      "  [1 1 1 1]\n",
      "  [1 1 1 1]]\n",
      "\n",
      " [[1 1 1 1]\n",
      "  [1 1 1 1]\n",
      "  [1 1 1 1]]]\n",
      "np.linspace(0, 2, 9) =>\n",
      " [0.   0.25 0.5  0.75 1.   1.25 1.5  1.75 2.  ]\n",
      "np.full((2,2), 7) =>\n",
      " [[7 7]\n",
      " [7 7]]\n",
      "identity matrix 2X2 =>\n",
      " [[1. 0.]\n",
      " [0. 1.]]\n",
      "random values =>\n",
      " [[0.46254525 0.44998202]\n",
      " [0.24975595 0.15682563]]\n",
      "empty in np =>\n",
      " [[1.39069238e-309 1.39069238e-309]\n",
      " [1.39069238e-309 1.39069238e-309]\n",
      " [1.39069238e-309 1.39069238e-309]]\n"
     ]
    }
   ],
   "source": [
    "# Initializing Placeholders \n",
    "print(\"np.zeros((3,4)) =>\\n\", np.zeros((3,4))) # numpy with 3x4 array with zeros\n",
    "print(\"np.ones((2,3,4), dtype=np.int16) =>\\n\", np.ones((2,3,4), dtype=np.int16)) # this is 3D array with ones. 2 x (3x4 matrix) i.e. two 3X4 matrix\n",
    "print(\"np.linspace(0, 2, 9) =>\\n\", np.linspace(0, 2, 9)) # 9 item between 0 and 2 with equal spacing, 0 and 2 inclusive. \n",
    "print(\"np.full((2,2), 7) =>\\n\", np.full((2,2), 7)) # get 2x2 matrix filled with 7\n",
    "print(\"identity matrix 2X2 =>\\n\", np.eye(2)) # give index \n",
    "print(\"random values =>\\n\", np.random.random((2,2))) # 2x2 matrix with random vlaues between 0 and 1.\n",
    "print(\"empty in np =>\\n\", np.empty((3,2))) # empty values"
   ]
  },
  {
   "cell_type": "code",
   "execution_count": 82,
   "id": "a5b661d6-28f8-45d4-8874-7a90b76d7fbb",
   "metadata": {},
   "outputs": [
    {
     "name": "stdout",
     "output_type": "stream",
     "text": [
      "t=> [1 2 3]\n",
      "a1=> arr_0 b1=> arr_1\n"
     ]
    }
   ],
   "source": [
    "# IO operations\n",
    "# Saving and loading numpy file on disk\n",
    "np.save('my_array_a', a) # saves in disk as my_array_a.npy file, we can load this later\n",
    "np.savez('save_npz.npz', a, b) # save a and b values\n",
    "\n",
    "# Loading values\n",
    "t = np.load('my_array_a.npy') # load numpy array from file and the load to variable t.\n",
    "print(\"t=>\", t)\n",
    "\n",
    "a1, b1 = np.load('save_npz.npz')\n",
    "print(\"a1=>\", a1, \"b1=>\", b1)"
   ]
  },
  {
   "cell_type": "code",
   "execution_count": 83,
   "id": "53302c12-b40f-48db-90bb-32d3aae43947",
   "metadata": {},
   "outputs": [],
   "source": [
    "# Saving and loading text file\n",
    "# np.loadtxt('textfilename.txt')\n",
    "# np.genfromtxt('./data/data.csv', delimiter=',')\n",
    "# np.savetxt('myarray.txt', a, delimiter=\" \")"
   ]
  },
  {
   "cell_type": "code",
   "execution_count": 84,
   "id": "639c966e-451f-4b90-a56e-ee3e159c1268",
   "metadata": {
    "scrolled": false
   },
   "outputs": [
    {
     "name": "stderr",
     "output_type": "stream",
     "text": [
      "/var/folders/qh/416mh9qd4f7b91j59rcp2hmh0000gn/T/ipykernel_1822/3604115808.py:4: DeprecationWarning: `np.complex` is a deprecated alias for the builtin `complex`. To silence this warning, use `complex` by itself. Doing this will not modify any behavior and is safe. If you specifically wanted the numpy scalar type, use `np.complex128` here.\n",
      "Deprecated in NumPy 1.20; for more details and guidance: https://numpy.org/devdocs/release/1.20.0-notes.html#deprecations\n",
      "  np.complex\n",
      "/var/folders/qh/416mh9qd4f7b91j59rcp2hmh0000gn/T/ipykernel_1822/3604115808.py:5: DeprecationWarning: `np.bool` is a deprecated alias for the builtin `bool`. To silence this warning, use `bool` by itself. Doing this will not modify any behavior and is safe. If you specifically wanted the numpy scalar type, use `np.bool_` here.\n",
      "Deprecated in NumPy 1.20; for more details and guidance: https://numpy.org/devdocs/release/1.20.0-notes.html#deprecations\n",
      "  np.bool\n",
      "/var/folders/qh/416mh9qd4f7b91j59rcp2hmh0000gn/T/ipykernel_1822/3604115808.py:6: DeprecationWarning: `np.object` is a deprecated alias for the builtin `object`. To silence this warning, use `object` by itself. Doing this will not modify any behavior and is safe. \n",
      "Deprecated in NumPy 1.20; for more details and guidance: https://numpy.org/devdocs/release/1.20.0-notes.html#deprecations\n",
      "  np.object\n"
     ]
    },
    {
     "data": {
      "text/plain": [
       "numpy.str_"
      ]
     },
     "execution_count": 84,
     "metadata": {},
     "output_type": "execute_result"
    }
   ],
   "source": [
    "# data types in numpy\n",
    "np.int16\n",
    "np.float32\n",
    "np.complex\n",
    "np.bool\n",
    "np.object\n",
    "np.string_\n",
    "np.unicode_"
   ]
  },
  {
   "cell_type": "markdown",
   "id": "bec7c23f-138f-4324-9d03-dfc5d0b70dca",
   "metadata": {},
   "source": [
    "Inspecting the array"
   ]
  },
  {
   "cell_type": "code",
   "execution_count": 85,
   "id": "ac223f4e-b452-4fb5-9bcf-88d9480e4d38",
   "metadata": {},
   "outputs": [
    {
     "name": "stdout",
     "output_type": "stream",
     "text": [
      "a.shape=>\n",
      " (3,)\n",
      "len(a)=> \n",
      " 3\n",
      "2 2\n",
      "a.ndim=>\n",
      " 1\n",
      "b.ndim=>\n",
      " 2\n",
      "c.ndim=>\n",
      " 3\n",
      "a.size=>\n",
      " 3\n",
      "a.dtype=>\n",
      " int64\n",
      "b.dtype=>\n",
      " float64\n",
      "c.dtype=>\n",
      " float64\n",
      "b.dtype.name=>\n",
      " float64\n",
      "[[1 2 3]\n",
      " [4 5 6]] int64\n",
      "[[1.5 2.  3. ]\n",
      " [4.  5.  6. ]] float64\n"
     ]
    }
   ],
   "source": [
    "# Inspecting the array\n",
    "# shape\n",
    "print(\"a.shape=>\\n\", a.shape)\n",
    "# length\n",
    "print(\"len(a)=> \\n\", len(a)) # for 1D\n",
    "print(len(b), len(c)) # for 2D and 3D its 2\n",
    "\n",
    "# ndim number of array dimensions\n",
    "print(\"a.ndim=>\\n\", a.ndim) # 1\n",
    "print(\"b.ndim=>\\n\", b.ndim) # 2\n",
    "print(\"c.ndim=>\\n\", c.ndim) # 3\n",
    "\n",
    "# size : number of array elements\n",
    "print(\"a.size=>\\n\", a.size)\n",
    "\n",
    "# dtype data type of array element\n",
    "print(\"a.dtype=>\\n\", a.dtype)\n",
    "print(\"b.dtype=>\\n\", b.dtype)\n",
    "print(\"c.dtype=>\\n\", c.dtype)\n",
    "print(\"b.dtype.name=>\\n\", b.dtype.name)\n",
    "\n",
    "# npvar.astype(dtype) e.g. b.astype(int)\n",
    "converted_b = b.astype(int) # it converted without changing the original value. \n",
    "print(converted_b, converted_b.dtype)\n",
    "print(b, b.dtype) # this will still be original\n"
   ]
  },
  {
   "cell_type": "markdown",
   "id": "b23ed759-9717-4d0c-b7e6-2288a9d47f68",
   "metadata": {},
   "source": [
    "Asking For help or information"
   ]
  },
  {
   "cell_type": "code",
   "execution_count": 86,
   "id": "2f5f1978-c284-4723-9fc1-fa3523611564",
   "metadata": {},
   "outputs": [
    {
     "name": "stdout",
     "output_type": "stream",
     "text": [
      "Data-type of the array's elements.\n",
      "\n",
      ".. warning::\n",
      "\n",
      "    Setting ``arr.dtype`` is discouraged and may be deprecated in the\n",
      "    future.  Setting will replace the ``dtype`` without modifying the\n",
      "    memory (see also `ndarray.view` and `ndarray.astype`).\n",
      "\n",
      "Parameters\n",
      "----------\n",
      "None\n",
      "\n",
      "Returns\n",
      "-------\n",
      "d : numpy dtype object\n",
      "\n",
      "See Also\n",
      "--------\n",
      "ndarray.astype : Cast the values contained in the array to a new data-type.\n",
      "ndarray.view : Create a view of the same data but a different data-type.\n",
      "numpy.dtype\n",
      "\n",
      "Examples\n",
      "--------\n",
      ">>> x\n",
      "array([[0, 1],\n",
      "       [2, 3]])\n",
      ">>> x.dtype\n",
      "dtype('int32')\n",
      ">>> type(x.dtype)\n",
      "<type 'numpy.dtype'>\n"
     ]
    }
   ],
   "source": [
    "np.info(np.ndarray.dtype)"
   ]
  },
  {
   "cell_type": "markdown",
   "id": "291d1a2b-5430-445a-917c-61e6eea665ac",
   "metadata": {},
   "source": [
    "Array Manipulation (Addition, subtraction, multiplication, divison, comparison, aggregation, copying array, sorting arry, subset, slicing and indexing)"
   ]
  },
  {
   "cell_type": "code",
   "execution_count": 87,
   "id": "ff714636-5953-4858-89bf-214e0af63eb1",
   "metadata": {},
   "outputs": [
    {
     "name": "stdout",
     "output_type": "stream",
     "text": [
      "a=> [1 2 3] b=> [[1.5 2.  3. ]\n",
      " [4.  5.  6. ]]\n",
      "\n",
      "\n",
      "[[-0.5  0.   0. ]\n",
      " [-3.  -3.  -3. ]] [[ True  True  True]\n",
      " [ True  True  True]]\n",
      "\n",
      "h1=> [[2.5 4.  6. ]\n",
      " [5.  7.  9. ]] \n",
      " comp=> [[ True  True  True]\n",
      " [ True  True  True]]\n",
      "[[ 1.5  4.   9. ]\n",
      " [ 4.  10.  18. ]] [[ True  True  True]\n",
      " [ True  True  True]]\n",
      "[[0.66666667 1.         1.        ]\n",
      " [0.25       0.4        0.5       ]] [[ True  True  True]\n",
      " [ True  True  True]]\n",
      "[[  4.48168907   7.3890561   20.08553692]\n",
      " [ 54.59815003 148.4131591  403.42879349]]\n",
      "[[1.22474487 1.41421356 1.73205081]\n",
      " [2.         2.23606798 2.44948974]]\n",
      "[0.84147098 0.90929743 0.14112001]\n",
      "[ 0.54030231 -0.41614684 -0.9899925 ]\n",
      "[0.         0.69314718 1.09861229]\n",
      "dt1.dot(dt2)=> 32\n"
     ]
    }
   ],
   "source": [
    "# Arithmetics \n",
    "# Subtraction\n",
    "print(\"a=>\", a, \"b=>\", b, )\n",
    "print(\"\\n\")\n",
    "g1 = a-b\n",
    "g2 = np.subtract(a, b)\n",
    "print(g1, g1==g2)\n",
    "\n",
    "# Addition\n",
    "h1 = a + b\n",
    "h2 = np.add(a,b)\n",
    "print(\"\\nh1=>\", h1, \"\\n comp=>\", h1==h2)\n",
    "\n",
    "# Multiplication\n",
    "m1 = a * b\n",
    "m2 = np.multiply(a, b)\n",
    "print(m1, m1==m2)\n",
    "\n",
    "\n",
    "# Divison\n",
    "d1 = a/b\n",
    "d2 = np.divide(a, b)\n",
    "print(d1, d1==d2)\n",
    "\n",
    "\n",
    "# Some more mathematical functions\n",
    "print(np.exp(b)) # exponentiation by element \n",
    "print(np.sqrt(b)) # get square root\n",
    "print(np.sin(a)) # sin\n",
    "print(np.cos(a)) # cos\n",
    "print(np.log(a)) # element wise natural logarithm \n",
    "dt1, dt2 = np.array([1,2,3]), np.array([4,5,6]) # res: 1*4 + 2*5 + 3*6 = 32\n",
    "print(\"dt1.dot(dt2)=>\", dt1.dot(dt2)) # dotproduct "
   ]
  },
  {
   "cell_type": "code",
   "execution_count": 88,
   "id": "272cd0ec-621a-4efd-8235-7c0c56c1f976",
   "metadata": {},
   "outputs": [
    {
     "name": "stdout",
     "output_type": "stream",
     "text": [
      "[[False  True  True]\n",
      " [False False False]]\n",
      "[ True False False]\n"
     ]
    },
    {
     "data": {
      "text/plain": [
       "False"
      ]
     },
     "execution_count": 88,
     "metadata": {},
     "output_type": "execute_result"
    }
   ],
   "source": [
    "# Comparison\n",
    "print(a == b) # element wise comparison\n",
    "print(a < 2) # also element wise comparison and return the result in array\n",
    "np.array_equal(a,b) # Array wise comparison"
   ]
  },
  {
   "cell_type": "markdown",
   "id": "913baf89",
   "metadata": {},
   "source": [
    "### Aggregation Functions"
   ]
  },
  {
   "cell_type": "code",
   "execution_count": 89,
   "id": "e6b71660-428c-40cc-8eb5-ca7a526ff110",
   "metadata": {},
   "outputs": [
    {
     "name": "stdout",
     "output_type": "stream",
     "text": [
      "6\n",
      "1\n",
      "3\n",
      "[4. 5. 6.]\n",
      "[[ 1.5  3.5  6.5]\n",
      " [ 4.   9.  15. ]]\n",
      "3.5833333333333335\n",
      "3.5\n"
     ]
    }
   ],
   "source": [
    "# Aggregations functions\n",
    "print(a.sum()) # sum\n",
    "print(a.min()) #min\n",
    "print(a.max()) #max\n",
    "print(b.max(axis=0)) # maximum value of array row\n",
    "print(b.cumsum(axis=1)) # cululative sum of the elemnets\n",
    "print(b.mean()) # median\n",
    "print(np.median(b)) # median # this does not work\n"
   ]
  },
  {
   "cell_type": "markdown",
   "id": "51461554",
   "metadata": {},
   "source": [
    "### Copying Array"
   ]
  },
  {
   "cell_type": "code",
   "execution_count": 90,
   "id": "33919d95",
   "metadata": {},
   "outputs": [
    {
     "name": "stdout",
     "output_type": "stream",
     "text": [
      "a=> [1 2 3]\n",
      "b=> [[1.5 2.  3. ]\n",
      " [4.  5.  6. ]]\n"
     ]
    }
   ],
   "source": [
    "# Copyting array\n",
    "print(\"a=>\", a)\n",
    "print(\"b=>\", b)"
   ]
  },
  {
   "cell_type": "code",
   "execution_count": 91,
   "id": "1b5f2b6c",
   "metadata": {},
   "outputs": [
    {
     "name": "stdout",
     "output_type": "stream",
     "text": [
      "h=> [1 2 3]\n",
      "h: [3 2 3] a: [3 2 3]\n",
      "cpy=> [3 2 3]\n",
      "cpy: [5 2 3] a: [3 2 3]\n",
      "h: [3 2 3] a: [3 2 3]\n"
     ]
    }
   ],
   "source": [
    "h=a.view() # create the view of the array with the same data\n",
    "print(\"h=>\", h)\n",
    "h[0]= 3.3\n",
    "print(\"h:\", h, \"a:\", a) # original a also changes\n",
    "\n",
    "\n",
    "cpy = np.copy(a) # create a copy of the array\n",
    "print(\"cpy=>\", cpy)\n",
    "cpy[0] = 5\n",
    "print(\"cpy:\", cpy, \"a:\", a) # no change to original a value.\n",
    "\n",
    "h = a.copy() # create a deep copy of the array\n",
    "print(\"h:\", h, \"a:\", a)\n"
   ]
  },
  {
   "cell_type": "markdown",
   "id": "6bd1d27b",
   "metadata": {},
   "source": [
    "### Sorting Array"
   ]
  },
  {
   "cell_type": "code",
   "execution_count": 92,
   "id": "460ec75a",
   "metadata": {},
   "outputs": [
    {
     "name": "stdout",
     "output_type": "stream",
     "text": [
      "before : a: [3 2 3] \n",
      "\n",
      "c: [[[1.5 2.  3. ]\n",
      "  [4.  5.  6. ]]\n",
      "\n",
      " [[3.  2.  1. ]\n",
      "  [4.  5.  6. ]]]\n",
      "after a: [2 3 3] \n",
      "\n",
      "c: [[[1.5 2.  1. ]\n",
      "  [4.  5.  6. ]]\n",
      "\n",
      " [[3.  2.  3. ]\n",
      "  [4.  5.  6. ]]]\n"
     ]
    }
   ],
   "source": [
    "print(\"before : a:\", a, \"\\n\\nc:\", c)\n",
    "a.sort() # sort an array\n",
    "c.sort(axis=0)  # this is not clear here yet\n",
    "\n",
    "print(\"after a:\", a, \"\\n\\nc:\", c)"
   ]
  },
  {
   "cell_type": "code",
   "execution_count": 93,
   "id": "203bf9f5",
   "metadata": {
    "scrolled": true
   },
   "outputs": [
    {
     "name": "stdout",
     "output_type": "stream",
     "text": [
      "b: [[1.5 2.  3. ]\n",
      " [4.  5.  6. ]]\n",
      "b: [[1.5 2.  3. ]\n",
      " [4.  5.  6. ]]\n"
     ]
    }
   ],
   "source": [
    "print(\"b:\", b)\n",
    "b.sort(axis=0) # not entirely clear\n",
    "print(\"b:\", b)"
   ]
  },
  {
   "cell_type": "markdown",
   "id": "a0d57cc9",
   "metadata": {},
   "source": [
    "### Subsetting, Slicing, Indexing"
   ]
  },
  {
   "cell_type": "code",
   "execution_count": 94,
   "id": "0cf3d9fa",
   "metadata": {},
   "outputs": [
    {
     "name": "stdout",
     "output_type": "stream",
     "text": [
      "a: [2 3 3] \n",
      "\n",
      "b: [[1.5 2.  3. ]\n",
      " [4.  5.  6. ]] \n",
      "c: [[[1.5 2.  1. ]\n",
      "  [4.  5.  6. ]]\n",
      "\n",
      " [[3.  2.  3. ]\n",
      "  [4.  5.  6. ]]]\n",
      "3\n",
      "6.0\n",
      "6.0\n",
      "[2 3]\n",
      "[2. 5.]\n",
      "b[:1]=> [[1.5 2.  3. ]]\n",
      "[[3. 2. 3.]\n",
      " [4. 5. 6.]]\n",
      "a[::-1]=> [3 3 2]\n",
      "\n",
      "a: [2 3 3]\n",
      "a[a<2]=> [2]\n",
      "b[[1, 0, 1, 0],[0,1,2,0]]=> [4.  2.  6.  1.5]\n"
     ]
    }
   ],
   "source": [
    "# subsetting\n",
    "print(\"a:\", a, \"\\n\\nb:\",b, \"\\nc:\",c)\n",
    "print(a[2]) # select the element at the 2nd index.\n",
    "\n",
    "print(b[1,2]) # select the element at row 1 and column 2 ; same as b[1][2]\n",
    "print(b[1][2]) # same 6.0\n",
    "\n",
    "# Slicing\n",
    "print(a[0:2]) # select element at index 0 and 1. \n",
    "print(b[0:2, 1]) # select element in 0 and 1 from column 1;\n",
    "print(\"b[:1]=>\",b[:1]) # select all items at row 0.\n",
    "print(c[1,...]) # same as [1, :,:]\n",
    "print(\"a[::-1]=>\", a[::-1]) # reversing an array a; this does not change the original a\n",
    "print(\"\\na:\",a) # original a is as it is.\n",
    "\n",
    "# Boolean indexing\n",
    "print(\"a[a<2]=>\", a[a<=2]) # select element from a less than equal to 2.\n",
    "\n",
    "# Fancy indexing \n",
    "print(\"b[[1, 0, 1, 0],[0,1,2,0]]=>\", b[[1, 0, 1, 0],[0,1,2,0]]) # select elements (1,0), (0, 1), (1,2), (0,0)"
   ]
  },
  {
   "cell_type": "markdown",
   "id": "4c41c759",
   "metadata": {},
   "source": [
    "### Array Manipulation"
   ]
  },
  {
   "cell_type": "code",
   "execution_count": 95,
   "id": "95b33e17",
   "metadata": {
    "scrolled": true
   },
   "outputs": [
    {
     "name": "stdout",
     "output_type": "stream",
     "text": [
      "i: [[1.5 4. ]\n",
      " [2.  5. ]\n",
      " [3.  6. ]]\n",
      "[[1.5 2.  3. ]\n",
      " [4.  5.  6. ]]\n",
      "[1.5 2.  3.  4.  5.  6. ]\n",
      "b: [[1.5 2.  3. ]\n",
      " [4.  5.  6. ]]\n",
      "[[1.5 2. ]\n",
      " [3.  4. ]\n",
      " [5.  6. ]]\n",
      "b:  [[1.5 2.  3. ]\n",
      " [4.  5.  6. ]]\n"
     ]
    }
   ],
   "source": [
    "# Transposing array\n",
    "i = np.transpose(b) # permute array dimensions\n",
    "print(\"i:\", i)\n",
    "print(i.T) # Permute array dimensions ; gets the original b matrix\n",
    "\n",
    "# Changing array shape\n",
    "print(b.ravel()) # flatten the array ; this does not change the original b matrix\n",
    "print(\"b:\", b) # prints the same origina b matrix\n",
    "print(b.reshape(3, -2)) # Reshape, but don't change data ; this does not change the original b value\n",
    "print(\"b: \", b) # same b value"
   ]
  },
  {
   "cell_type": "code",
   "execution_count": 96,
   "id": "ee1c9ae2",
   "metadata": {},
   "outputs": [
    {
     "name": "stdout",
     "output_type": "stream",
     "text": [
      "h: [3 2 3]\n",
      "None\n",
      "[[3 2 3 0 0 0]\n",
      " [0 0 0 0 0 0]]\n"
     ]
    }
   ],
   "source": [
    "# Adding/Removing Elements\n",
    "print(\"h:\", h)\n",
    "print(h.resize((2,6))) # does not return value; changes original h value\n",
    "print(h) # this is now changed."
   ]
  },
  {
   "cell_type": "code",
   "execution_count": 98,
   "id": "82e77239",
   "metadata": {},
   "outputs": [],
   "source": [
    "# np.append(h, g) # Append items to an array\n",
    "# np.insert(a, 1, 5) # Insert items in an array\n",
    "# np.delete(a[1]) # Delete items from an array"
   ]
  },
  {
   "cell_type": "code",
   "execution_count": 118,
   "id": "c92678ca",
   "metadata": {},
   "outputs": [
    {
     "name": "stdout",
     "output_type": "stream",
     "text": [
      "d: [10 15 20] e: [[7 7]\n",
      " [7 7]] f: [[1. 0.]\n",
      " [0. 1.]]\n",
      "[ 2  3  3 10 15 20]\n",
      "[2 3 3] [10 15 20]\n",
      "np.vstack((a,b))=>\n",
      " [[2.  3.  3. ]\n",
      " [1.5 2.  3. ]\n",
      " [4.  5.  6. ]]\n",
      "\n",
      "np.hstack((a,b))=>\n",
      " [[7. 7. 1. 0.]\n",
      " [7. 7. 0. 1.]]\n",
      "np.r_[e,f]=>  [[7. 7.]\n",
      " [7. 7.]\n",
      " [1. 0.]\n",
      " [0. 1.]]\n",
      "[[ 2 10]\n",
      " [ 3 15]\n",
      " [ 3 20]]\n",
      "np.column_stack((a,d))=>\n",
      " [[ 2 10]\n",
      " [ 3 15]\n",
      " [ 3 20]]\n",
      "np.hsplit(a, 3)=>\n",
      " [array([2]), array([3]), array([3])]\n",
      "[array([[[1.5, 2. , 1. ],\n",
      "        [4. , 5. , 6. ]]]), array([[[3., 2., 3.],\n",
      "        [4., 5., 6.]]])]\n"
     ]
    }
   ],
   "source": [
    "\n",
    "\n",
    "\n",
    "d = np.arange(10, 25, 5)\n",
    "e = np.full((2,2), 7)\n",
    "f = np.eye(2)\n",
    "print(\"d:\", d, \"e:\",e, \"f:\",f)\n",
    "# Combining Arrays \n",
    "print(np.concatenate((a,d), axis=0)) # doesn't change original matrix a and d\n",
    "print(a, d)\n",
    "\n",
    "# using vstack and hstack\n",
    "print(\"np.vstack((a,b))=>\\n\", np.vstack((a,b))) # stack array vertically (row-wise)\n",
    "print(\"\\nnp.hstack((a,b))=>\\n\", np.hstack((e,f))) # stack array horizontally (column wise)\n",
    "\n",
    "# np.r_[e,f]\n",
    "print(\"np.r_[e,f]=> \", np.r_[e,f])# stack arrays vertically row-wise.\n",
    "print(np.c_[a,d]) # create stacked column-wise array; you have tow 1d array they are merged to create 2 columns\n",
    "\n",
    "# column_stack\n",
    "print(\"np.column_stack((a,d))=>\\n\", np.column_stack((a,d))) # create stacked column-wise array ; \n",
    "# gets value and creates column wise array\n",
    "\n",
    "\n",
    "# Splitting\n",
    "print(\"np.hsplit(a, 3)=>\\n\", np.hsplit(a, 3)) # Split the array a horizontally at index 3\n",
    "#The value 3 has to split array in equal division otherwise it throws error. E.g.np.hsplit(a, 2)=>throws error.\n",
    "\n",
    "print(\"np.vsplit(c,2)=>\", np.vsplit(c,2)) # split the array vertically at the 2nd index"
   ]
  }
 ],
 "metadata": {
  "kernelspec": {
   "display_name": "Python 3 (ipykernel)",
   "language": "python",
   "name": "python3"
  },
  "language_info": {
   "codemirror_mode": {
    "name": "ipython",
    "version": 3
   },
   "file_extension": ".py",
   "mimetype": "text/x-python",
   "name": "python",
   "nbconvert_exporter": "python",
   "pygments_lexer": "ipython3",
   "version": "3.10.9"
  }
 },
 "nbformat": 4,
 "nbformat_minor": 5
}
